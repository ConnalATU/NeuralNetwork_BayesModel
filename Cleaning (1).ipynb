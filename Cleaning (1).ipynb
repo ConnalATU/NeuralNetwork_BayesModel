{
  "nbformat": 4,
  "nbformat_minor": 0,
  "metadata": {
    "colab": {
      "provenance": []
    },
    "kernelspec": {
      "name": "python3",
      "display_name": "Python 3"
    },
    "language_info": {
      "name": "python"
    }
  },
  "cells": [
    {
      "cell_type": "code",
      "execution_count": null,
      "metadata": {
        "colab": {
          "base_uri": "https://localhost:8080/"
        },
        "id": "uvBZ1wlwRfKq",
        "outputId": "f3c27edc-4bec-4663-ea86-d85a29784c8d"
      },
      "outputs": [
        {
          "output_type": "stream",
          "name": "stdout",
          "text": [
            "Empty DataFrame\n",
            "Columns: [Unnamed: 0, Place, Unnamed: 2, Unnamed: 3, Unnamed: 4, Unnamed: 5, Runners, Track Name, Class (GB only), Distance, Age, Horse, Weight, Trainer, Jockey, Unnamed: 15, Race Name, Going, Headgear, Unnamed: 19, Unnamed: 20, Unnamed: 21, Silk No, Pace, Stall / Draw, Unnamed: 25, Unnamed: 26, Unnamed: 27, 15 Mins, 10 mins, 5 mins, 3 mins, 2 mins, 1 min , Post Time]\n",
            "Index: []\n",
            "\n",
            "[0 rows x 35 columns]\n"
          ]
        }
      ],
      "source": [
        "#import libs\n",
        "\n",
        "import pandas as pd\n",
        "from sklearn.preprocessing import LabelEncoder\n",
        "\n",
        "# load dataset\n",
        "data = pd.read_excel('/content/testingrace.xlsx')\n",
        "\n",
        "# # drop unnecessary columns\n",
        "columns_to_drop = []\n",
        "data_cleaned = data.drop(columns=columns_to_drop)\n",
        "\n",
        "# # check for null values\n",
        "null_values = data_cleaned.isnull().sum()\n",
        "\n",
        "# drop rows with null values\n",
        "data_cleaned = data_cleaned.dropna()\n",
        "\n",
        "# # mapping countries to continents\n",
        "# country_to_continent = {\n",
        "#     \"United States\": 0, \"United Kingdom\": 1, \"Canada\": 0, \"Russia\": 1, \"Germany\": 1, \"Ireland\": 1, \"Australia\": 2,\n",
        "#     \"Netherlands\": 1, \"New Zealand\": 2, \"Poland\": 1, \"Italy\": 1, \"South Africa\": 3, \"Switzerland\": 1, \"Sweden\": 1,\n",
        "#     \"India\": 3, \"France\": 1, \"Singapore\": 3, \"Belgium\": 1, \"Brazil\": 0, \"Israel\": 3, \"Bulgaria\": 1, \"Denmark\": 1,\n",
        "#     \"Finland\": 1, \"Mexico\": 0, \"Colombia\": 0, \"Croatia\": 1, \"Thailand\": 3, \"Georgia\": 1, \"Moldova\": 1, \"China\": 3,\n",
        "#     \"Czech Republic\": 1, \"Austria\": 1, \"Japan\": 3, \"Hungary\": 1, \"Bosnia and Herzegovina\": 1, \"Slovenia\": 1,\n",
        "#     \"Portugal\": 1, \"Philippines\": 3\n",
        "# }\n",
        "\n",
        "# data_cleaned['Country'] = data_cleaned['Country'].map(country_to_continent)\n",
        "\n",
        "# create label encoder object\n",
        "le = LabelEncoder()\n",
        "\n",
        "# columns to be encoded\n",
        "categorical_columns = data_cleaned.select_dtypes(include=['object']).columns.tolist()\n",
        "\n",
        "# do label encoder to each categorical column\n",
        "for column in categorical_columns:\n",
        "    data_cleaned[column] = le.fit_transform(data_cleaned[column])\n",
        "\n",
        "# Save the cleaned Dataset\n",
        "data_cleaned.to_csv('/content/cleaned_dataset.csv', index=False)\n",
        "\n",
        "# display the first few rows\n",
        "print(data_cleaned.head())\n",
        "\n"
      ]
    }
  ]
}